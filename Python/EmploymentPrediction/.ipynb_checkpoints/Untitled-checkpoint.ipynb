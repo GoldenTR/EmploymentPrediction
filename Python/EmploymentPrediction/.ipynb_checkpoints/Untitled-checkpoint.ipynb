{
 "cells": [
  {
   "cell_type": "code",
   "execution_count": 11,
   "id": "7eb57614-09de-4047-acc3-f100b3cb0388",
   "metadata": {
    "tags": []
   },
   "outputs": [],
   "source": [
    "import pandas as pd\n",
    "import numpy as np\n",
    "from metric_learn import LMNN\n",
    "from sklearn.datasets import load_iris\n",
    "from sklearn.neighbors import KNeighborsClassifier\n",
    "from sklearn.model_selection import train_test_split\n",
    "from sklearn.linear_model import LogisticRegression\n",
    "from sklearn.base import clone"
   ]
  },
  {
   "cell_type": "code",
   "execution_count": 2,
   "id": "5d3d12ed-b857-48fb-b32c-2257d4ece78e",
   "metadata": {
    "tags": []
   },
   "outputs": [],
   "source": [
    "iris_data = load_breast_cancer()\n",
    "X = iris_data['data']\n",
    "Y = iris_data['target']"
   ]
  },
  {
   "cell_type": "code",
   "execution_count": 12,
   "id": "91ca7f9a-2212-4a99-9fdd-e22b46760b9b",
   "metadata": {
    "tags": []
   },
   "outputs": [],
   "source": [
    "class MetaCost(object):\n",
    "\n",
    "    \"\"\"A procedure for making error-based classifiers cost-sensitive\n",
    "\n",
    "    >>> from sklearn.datasets import load_iris\n",
    "    >>> from sklearn.linear_model import LogisticRegression\n",
    "    >>> import pandas as pd\n",
    "    >>> import numpy as np\n",
    "    >>> S = pd.DataFrame(load_iris().data)\n",
    "    >>> S['target'] = load_iris().target\n",
    "    >>> LR = LogisticRegression(solver='lbfgs', multi_class='multinomial')\n",
    "    >>> C = np.array([[0, 1, 1], [1, 0, 1], [1, 1, 0]])\n",
    "    >>> model = MetaCost(S, LR, C).fit('target', 3)\n",
    "    >>> model.predict_proba(load_iris().data[[2]])\n",
    "    >>> model.score(S[[0, 1, 2, 3]].values, S['target'])\n",
    "\n",
    "    .. note:: The form of the cost matrix C must be as follows:\n",
    "    +---------------+----------+----------+----------+\n",
    "    |  actual class |          |          |          |\n",
    "    +               |          |          |          |\n",
    "    |   +           | y(x)=j_1 | y(x)=j_2 | y(x)=j_3 |\n",
    "    |       +       |          |          |          |\n",
    "    |           +   |          |          |          |\n",
    "    |predicted class|          |          |          |\n",
    "    +---------------+----------+----------+----------+\n",
    "    |   h(x)=j_1    |    0     |    a     |     b    |\n",
    "    |   h(x)=j_2    |    c     |    0     |     d    |\n",
    "    |   h(x)=j_3    |    e     |    f     |     0    |\n",
    "    +---------------+----------+----------+----------+\n",
    "    | C = np.array([[0, a, b],[c, 0 , d],[e, f, 0]]) |\n",
    "    +------------------------------------------------+\n",
    "    \"\"\"\n",
    "    def __init__(self, S, L, C, m=50, n=1, p=True, q=True):\n",
    "        \"\"\"\n",
    "        :param S: The training set\n",
    "        :param L: A classification learning algorithm\n",
    "        :param C: A cost matrix\n",
    "        :param q: Is True iff all resamples are to be used  for each examples\n",
    "        :param m: The number of resamples to generate\n",
    "        :param n: The number of examples in each resample\n",
    "        :param p: Is True iff L produces class probabilities\n",
    "        \"\"\"\n",
    "        if not isinstance(S, pd.DataFrame):\n",
    "            raise ValueError('S must be a DataFrame object')\n",
    "        new_index = list(range(len(S)))\n",
    "        S.index = new_index\n",
    "        self.S = S\n",
    "        self.L = L\n",
    "        self.C = C\n",
    "        self.m = m\n",
    "        self.n = len(S) * n\n",
    "        self.p = p\n",
    "        self.q = q\n",
    "\n",
    "    def fit(self, flag, num_class):\n",
    "        \"\"\"\n",
    "        :param flag: The name of classification labels\n",
    "        :param num_class: The number of classes\n",
    "        :return: Classifier\n",
    "        \"\"\"\n",
    "        col = [col for col in self.S.columns if col != flag]\n",
    "        S_ = {}\n",
    "        M = []\n",
    "\n",
    "        for i in range(self.m):\n",
    "            # Let S_[i] be a resample of S with self.n examples\n",
    "            S_[i] = self.S.sample(n=self.n, replace=True)\n",
    "\n",
    "            X = S_[i][col].values\n",
    "            y = S_[i][flag].values\n",
    "\n",
    "            # Let M[i] = model produced by applying L to S_[i]\n",
    "            model = clone(self.L)\n",
    "            M.append(model.fit(X, y))\n",
    "\n",
    "        label = []\n",
    "        S_array = self.S[col].values\n",
    "        for i in range(len(self.S)):\n",
    "            if not self.q:\n",
    "                k_th = [k for k, v in S_.items() if i not in v.index]\n",
    "                M_ = list(np.array(M)[k_th])\n",
    "            else:\n",
    "                M_ = M\n",
    "\n",
    "            if self.p:\n",
    "                P_j = [model.predict_proba(S_array[[i]]) for model in M_]\n",
    "            else:\n",
    "                P_j = []\n",
    "                vector = [0] * num_class\n",
    "                for model in M_:\n",
    "                    vector[model.predict(S_array[[i]])] = 1\n",
    "                    P_j.append(vector)\n",
    "\n",
    "            # Calculate P(j|x)\n",
    "            P = np.array(np.mean(P_j, 0)).T\n",
    "\n",
    "            # Relabel\n",
    "            label.append(np.argmin(self.C.dot(P)))\n",
    "\n",
    "        # Model produced by applying L to S with relabeled y\n",
    "        X_train = self.S[col].values\n",
    "        y_train = np.array(label)\n",
    "        model_new = clone(self.L)\n",
    "        model_new.fit(X_train, y_train)\n",
    "\n",
    "        return model_new"
   ]
  },
  {
   "cell_type": "code",
   "execution_count": 3,
   "id": "cb9f0165-5be1-4332-9bd1-ea2362dd5063",
   "metadata": {
    "tags": []
   },
   "outputs": [],
   "source": [
    "lmnn = LMNN(n_neighbors=5, learn_rate=1e-6)\n",
    "X_l=lmnn.fit_transform(X, Y)"
   ]
  },
  {
   "cell_type": "code",
   "execution_count": 4,
   "id": "32dcbac4-80d0-4e99-8a46-ba96384cf34c",
   "metadata": {
    "tags": []
   },
   "outputs": [],
   "source": [
    "X_ltrain,X_ltest,Ytrian,Ytest=train_test_split(X_l,Y,test_size=0.3,random_state=42)\n",
    "Xtrain,Xtest,Ytrain,Ytest=train_test_split(X,Y,test_size=0.3,random_state=42)"
   ]
  },
  {
   "cell_type": "code",
   "execution_count": 6,
   "id": "8b5ea925-b359-48b8-9d1e-d5422a8f6d6d",
   "metadata": {
    "tags": []
   },
   "outputs": [],
   "source": [
    "clf_l=KNeighborsClassifier().fit(X_ltrain,Ytrain)\n",
    "clf=KNeighborsClassifier().fit(Xtrain,Ytrain)"
   ]
  },
  {
   "cell_type": "code",
   "execution_count": 9,
   "id": "edd1a484-5a5c-408f-becb-f99bc5f9b4b5",
   "metadata": {
    "tags": []
   },
   "outputs": [
    {
     "data": {
      "text/plain": [
       "0.964824120603015"
      ]
     },
     "execution_count": 9,
     "metadata": {},
     "output_type": "execute_result"
    }
   ],
   "source": [
    "clf_l.score(X_ltrain,Ytrain)"
   ]
  },
  {
   "cell_type": "code",
   "execution_count": 10,
   "id": "455bb7cc-3d49-4a96-9ee8-47474e03ded0",
   "metadata": {
    "tags": []
   },
   "outputs": [
    {
     "data": {
      "text/plain": [
       "0.9221105527638191"
      ]
     },
     "execution_count": 10,
     "metadata": {},
     "output_type": "execute_result"
    }
   ],
   "source": [
    "clf.score(Xtrain,Ytrain)"
   ]
  },
  {
   "cell_type": "code",
   "execution_count": 4,
   "id": "b1ef5ac0-1a4b-4e9d-8d28-0b6660e71495",
   "metadata": {},
   "outputs": [],
   "source": [
    "data = {\n",
    "    'features': [[1, 2, 3], [4, 5, 6], [7, 8, 9]],\n",
    "    'IDs': [101, 102, 103]\n",
    "}\n",
    "df = pd.DataFrame(data)\n"
   ]
  },
  {
   "cell_type": "code",
   "execution_count": 5,
   "id": "6193d6e0-9b94-4071-8620-6c7dd57c309f",
   "metadata": {
    "tags": []
   },
   "outputs": [
    {
     "data": {
      "text/html": [
       "<div>\n",
       "<style scoped>\n",
       "    .dataframe tbody tr th:only-of-type {\n",
       "        vertical-align: middle;\n",
       "    }\n",
       "\n",
       "    .dataframe tbody tr th {\n",
       "        vertical-align: top;\n",
       "    }\n",
       "\n",
       "    .dataframe thead th {\n",
       "        text-align: right;\n",
       "    }\n",
       "</style>\n",
       "<table border=\"1\" class=\"dataframe\">\n",
       "  <thead>\n",
       "    <tr style=\"text-align: right;\">\n",
       "      <th></th>\n",
       "      <th>features</th>\n",
       "      <th>IDs</th>\n",
       "    </tr>\n",
       "  </thead>\n",
       "  <tbody>\n",
       "    <tr>\n",
       "      <th>0</th>\n",
       "      <td>[1, 2, 3]</td>\n",
       "      <td>101</td>\n",
       "    </tr>\n",
       "    <tr>\n",
       "      <th>1</th>\n",
       "      <td>[4, 5, 6]</td>\n",
       "      <td>102</td>\n",
       "    </tr>\n",
       "    <tr>\n",
       "      <th>2</th>\n",
       "      <td>[7, 8, 9]</td>\n",
       "      <td>103</td>\n",
       "    </tr>\n",
       "  </tbody>\n",
       "</table>\n",
       "</div>"
      ],
      "text/plain": [
       "    features  IDs\n",
       "0  [1, 2, 3]  101\n",
       "1  [4, 5, 6]  102\n",
       "2  [7, 8, 9]  103"
      ]
     },
     "execution_count": 5,
     "metadata": {},
     "output_type": "execute_result"
    }
   ],
   "source": [
    "df"
   ]
  },
  {
   "cell_type": "code",
   "execution_count": 6,
   "id": "1e9d452b-714f-4321-b014-d37ceb8dd792",
   "metadata": {
    "tags": []
   },
   "outputs": [],
   "source": [
    "X = df['features'].values\n"
   ]
  },
  {
   "cell_type": "code",
   "execution_count": 7,
   "id": "c2042df4-dbe3-489e-9cad-cf75da5bac71",
   "metadata": {
    "tags": []
   },
   "outputs": [
    {
     "data": {
      "text/plain": [
       "array([list([1, 2, 3]), list([4, 5, 6]), list([7, 8, 9])], dtype=object)"
      ]
     },
     "execution_count": 7,
     "metadata": {},
     "output_type": "execute_result"
    }
   ],
   "source": [
    "X"
   ]
  },
  {
   "cell_type": "code",
   "execution_count": 4,
   "id": "5a41f24e-756b-4f4b-bc4b-fa1fd0b6909a",
   "metadata": {
    "tags": []
   },
   "outputs": [],
   "source": [
    "S = pd.DataFrame(load_iris().data)\n",
    "S['target'] = load_iris().target"
   ]
  },
  {
   "cell_type": "code",
   "execution_count": 13,
   "id": "a0db6eb2-c358-4ffc-baa2-949f03e39dab",
   "metadata": {
    "tags": []
   },
   "outputs": [
    {
     "name": "stderr",
     "output_type": "stream",
     "text": [
      "D:\\App\\anaconda3\\envs\\PythonEnv3.10\\lib\\site-packages\\sklearn\\linear_model\\_logistic.py:460: ConvergenceWarning: lbfgs failed to converge (status=1):\n",
      "STOP: TOTAL NO. of ITERATIONS REACHED LIMIT.\n",
      "\n",
      "Increase the number of iterations (max_iter) or scale the data as shown in:\n",
      "    https://scikit-learn.org/stable/modules/preprocessing.html\n",
      "Please also refer to the documentation for alternative solver options:\n",
      "    https://scikit-learn.org/stable/modules/linear_model.html#logistic-regression\n",
      "  n_iter_i = _check_optimize_result(\n",
      "D:\\App\\anaconda3\\envs\\PythonEnv3.10\\lib\\site-packages\\sklearn\\linear_model\\_logistic.py:460: ConvergenceWarning: lbfgs failed to converge (status=1):\n",
      "STOP: TOTAL NO. of ITERATIONS REACHED LIMIT.\n",
      "\n",
      "Increase the number of iterations (max_iter) or scale the data as shown in:\n",
      "    https://scikit-learn.org/stable/modules/preprocessing.html\n",
      "Please also refer to the documentation for alternative solver options:\n",
      "    https://scikit-learn.org/stable/modules/linear_model.html#logistic-regression\n",
      "  n_iter_i = _check_optimize_result(\n",
      "D:\\App\\anaconda3\\envs\\PythonEnv3.10\\lib\\site-packages\\sklearn\\linear_model\\_logistic.py:460: ConvergenceWarning: lbfgs failed to converge (status=1):\n",
      "STOP: TOTAL NO. of ITERATIONS REACHED LIMIT.\n",
      "\n",
      "Increase the number of iterations (max_iter) or scale the data as shown in:\n",
      "    https://scikit-learn.org/stable/modules/preprocessing.html\n",
      "Please also refer to the documentation for alternative solver options:\n",
      "    https://scikit-learn.org/stable/modules/linear_model.html#logistic-regression\n",
      "  n_iter_i = _check_optimize_result(\n",
      "D:\\App\\anaconda3\\envs\\PythonEnv3.10\\lib\\site-packages\\sklearn\\linear_model\\_logistic.py:460: ConvergenceWarning: lbfgs failed to converge (status=1):\n",
      "STOP: TOTAL NO. of ITERATIONS REACHED LIMIT.\n",
      "\n",
      "Increase the number of iterations (max_iter) or scale the data as shown in:\n",
      "    https://scikit-learn.org/stable/modules/preprocessing.html\n",
      "Please also refer to the documentation for alternative solver options:\n",
      "    https://scikit-learn.org/stable/modules/linear_model.html#logistic-regression\n",
      "  n_iter_i = _check_optimize_result(\n",
      "D:\\App\\anaconda3\\envs\\PythonEnv3.10\\lib\\site-packages\\sklearn\\linear_model\\_logistic.py:460: ConvergenceWarning: lbfgs failed to converge (status=1):\n",
      "STOP: TOTAL NO. of ITERATIONS REACHED LIMIT.\n",
      "\n",
      "Increase the number of iterations (max_iter) or scale the data as shown in:\n",
      "    https://scikit-learn.org/stable/modules/preprocessing.html\n",
      "Please also refer to the documentation for alternative solver options:\n",
      "    https://scikit-learn.org/stable/modules/linear_model.html#logistic-regression\n",
      "  n_iter_i = _check_optimize_result(\n",
      "D:\\App\\anaconda3\\envs\\PythonEnv3.10\\lib\\site-packages\\sklearn\\linear_model\\_logistic.py:460: ConvergenceWarning: lbfgs failed to converge (status=1):\n",
      "STOP: TOTAL NO. of ITERATIONS REACHED LIMIT.\n",
      "\n",
      "Increase the number of iterations (max_iter) or scale the data as shown in:\n",
      "    https://scikit-learn.org/stable/modules/preprocessing.html\n",
      "Please also refer to the documentation for alternative solver options:\n",
      "    https://scikit-learn.org/stable/modules/linear_model.html#logistic-regression\n",
      "  n_iter_i = _check_optimize_result(\n",
      "D:\\App\\anaconda3\\envs\\PythonEnv3.10\\lib\\site-packages\\sklearn\\linear_model\\_logistic.py:460: ConvergenceWarning: lbfgs failed to converge (status=1):\n",
      "STOP: TOTAL NO. of ITERATIONS REACHED LIMIT.\n",
      "\n",
      "Increase the number of iterations (max_iter) or scale the data as shown in:\n",
      "    https://scikit-learn.org/stable/modules/preprocessing.html\n",
      "Please also refer to the documentation for alternative solver options:\n",
      "    https://scikit-learn.org/stable/modules/linear_model.html#logistic-regression\n",
      "  n_iter_i = _check_optimize_result(\n",
      "D:\\App\\anaconda3\\envs\\PythonEnv3.10\\lib\\site-packages\\sklearn\\linear_model\\_logistic.py:460: ConvergenceWarning: lbfgs failed to converge (status=1):\n",
      "STOP: TOTAL NO. of ITERATIONS REACHED LIMIT.\n",
      "\n",
      "Increase the number of iterations (max_iter) or scale the data as shown in:\n",
      "    https://scikit-learn.org/stable/modules/preprocessing.html\n",
      "Please also refer to the documentation for alternative solver options:\n",
      "    https://scikit-learn.org/stable/modules/linear_model.html#logistic-regression\n",
      "  n_iter_i = _check_optimize_result(\n",
      "D:\\App\\anaconda3\\envs\\PythonEnv3.10\\lib\\site-packages\\sklearn\\linear_model\\_logistic.py:460: ConvergenceWarning: lbfgs failed to converge (status=1):\n",
      "STOP: TOTAL NO. of ITERATIONS REACHED LIMIT.\n",
      "\n",
      "Increase the number of iterations (max_iter) or scale the data as shown in:\n",
      "    https://scikit-learn.org/stable/modules/preprocessing.html\n",
      "Please also refer to the documentation for alternative solver options:\n",
      "    https://scikit-learn.org/stable/modules/linear_model.html#logistic-regression\n",
      "  n_iter_i = _check_optimize_result(\n",
      "D:\\App\\anaconda3\\envs\\PythonEnv3.10\\lib\\site-packages\\sklearn\\linear_model\\_logistic.py:460: ConvergenceWarning: lbfgs failed to converge (status=1):\n",
      "STOP: TOTAL NO. of ITERATIONS REACHED LIMIT.\n",
      "\n",
      "Increase the number of iterations (max_iter) or scale the data as shown in:\n",
      "    https://scikit-learn.org/stable/modules/preprocessing.html\n",
      "Please also refer to the documentation for alternative solver options:\n",
      "    https://scikit-learn.org/stable/modules/linear_model.html#logistic-regression\n",
      "  n_iter_i = _check_optimize_result(\n",
      "D:\\App\\anaconda3\\envs\\PythonEnv3.10\\lib\\site-packages\\sklearn\\linear_model\\_logistic.py:460: ConvergenceWarning: lbfgs failed to converge (status=1):\n",
      "STOP: TOTAL NO. of ITERATIONS REACHED LIMIT.\n",
      "\n",
      "Increase the number of iterations (max_iter) or scale the data as shown in:\n",
      "    https://scikit-learn.org/stable/modules/preprocessing.html\n",
      "Please also refer to the documentation for alternative solver options:\n",
      "    https://scikit-learn.org/stable/modules/linear_model.html#logistic-regression\n",
      "  n_iter_i = _check_optimize_result(\n",
      "D:\\App\\anaconda3\\envs\\PythonEnv3.10\\lib\\site-packages\\sklearn\\linear_model\\_logistic.py:460: ConvergenceWarning: lbfgs failed to converge (status=1):\n",
      "STOP: TOTAL NO. of ITERATIONS REACHED LIMIT.\n",
      "\n",
      "Increase the number of iterations (max_iter) or scale the data as shown in:\n",
      "    https://scikit-learn.org/stable/modules/preprocessing.html\n",
      "Please also refer to the documentation for alternative solver options:\n",
      "    https://scikit-learn.org/stable/modules/linear_model.html#logistic-regression\n",
      "  n_iter_i = _check_optimize_result(\n",
      "D:\\App\\anaconda3\\envs\\PythonEnv3.10\\lib\\site-packages\\sklearn\\linear_model\\_logistic.py:460: ConvergenceWarning: lbfgs failed to converge (status=1):\n",
      "STOP: TOTAL NO. of ITERATIONS REACHED LIMIT.\n",
      "\n",
      "Increase the number of iterations (max_iter) or scale the data as shown in:\n",
      "    https://scikit-learn.org/stable/modules/preprocessing.html\n",
      "Please also refer to the documentation for alternative solver options:\n",
      "    https://scikit-learn.org/stable/modules/linear_model.html#logistic-regression\n",
      "  n_iter_i = _check_optimize_result(\n",
      "D:\\App\\anaconda3\\envs\\PythonEnv3.10\\lib\\site-packages\\sklearn\\linear_model\\_logistic.py:460: ConvergenceWarning: lbfgs failed to converge (status=1):\n",
      "STOP: TOTAL NO. of ITERATIONS REACHED LIMIT.\n",
      "\n",
      "Increase the number of iterations (max_iter) or scale the data as shown in:\n",
      "    https://scikit-learn.org/stable/modules/preprocessing.html\n",
      "Please also refer to the documentation for alternative solver options:\n",
      "    https://scikit-learn.org/stable/modules/linear_model.html#logistic-regression\n",
      "  n_iter_i = _check_optimize_result(\n",
      "D:\\App\\anaconda3\\envs\\PythonEnv3.10\\lib\\site-packages\\sklearn\\linear_model\\_logistic.py:460: ConvergenceWarning: lbfgs failed to converge (status=1):\n",
      "STOP: TOTAL NO. of ITERATIONS REACHED LIMIT.\n",
      "\n",
      "Increase the number of iterations (max_iter) or scale the data as shown in:\n",
      "    https://scikit-learn.org/stable/modules/preprocessing.html\n",
      "Please also refer to the documentation for alternative solver options:\n",
      "    https://scikit-learn.org/stable/modules/linear_model.html#logistic-regression\n",
      "  n_iter_i = _check_optimize_result(\n",
      "D:\\App\\anaconda3\\envs\\PythonEnv3.10\\lib\\site-packages\\sklearn\\linear_model\\_logistic.py:460: ConvergenceWarning: lbfgs failed to converge (status=1):\n",
      "STOP: TOTAL NO. of ITERATIONS REACHED LIMIT.\n",
      "\n",
      "Increase the number of iterations (max_iter) or scale the data as shown in:\n",
      "    https://scikit-learn.org/stable/modules/preprocessing.html\n",
      "Please also refer to the documentation for alternative solver options:\n",
      "    https://scikit-learn.org/stable/modules/linear_model.html#logistic-regression\n",
      "  n_iter_i = _check_optimize_result(\n",
      "D:\\App\\anaconda3\\envs\\PythonEnv3.10\\lib\\site-packages\\sklearn\\linear_model\\_logistic.py:460: ConvergenceWarning: lbfgs failed to converge (status=1):\n",
      "STOP: TOTAL NO. of ITERATIONS REACHED LIMIT.\n",
      "\n",
      "Increase the number of iterations (max_iter) or scale the data as shown in:\n",
      "    https://scikit-learn.org/stable/modules/preprocessing.html\n",
      "Please also refer to the documentation for alternative solver options:\n",
      "    https://scikit-learn.org/stable/modules/linear_model.html#logistic-regression\n",
      "  n_iter_i = _check_optimize_result(\n",
      "D:\\App\\anaconda3\\envs\\PythonEnv3.10\\lib\\site-packages\\sklearn\\linear_model\\_logistic.py:460: ConvergenceWarning: lbfgs failed to converge (status=1):\n",
      "STOP: TOTAL NO. of ITERATIONS REACHED LIMIT.\n",
      "\n",
      "Increase the number of iterations (max_iter) or scale the data as shown in:\n",
      "    https://scikit-learn.org/stable/modules/preprocessing.html\n",
      "Please also refer to the documentation for alternative solver options:\n",
      "    https://scikit-learn.org/stable/modules/linear_model.html#logistic-regression\n",
      "  n_iter_i = _check_optimize_result(\n",
      "D:\\App\\anaconda3\\envs\\PythonEnv3.10\\lib\\site-packages\\sklearn\\linear_model\\_logistic.py:460: ConvergenceWarning: lbfgs failed to converge (status=1):\n",
      "STOP: TOTAL NO. of ITERATIONS REACHED LIMIT.\n",
      "\n",
      "Increase the number of iterations (max_iter) or scale the data as shown in:\n",
      "    https://scikit-learn.org/stable/modules/preprocessing.html\n",
      "Please also refer to the documentation for alternative solver options:\n",
      "    https://scikit-learn.org/stable/modules/linear_model.html#logistic-regression\n",
      "  n_iter_i = _check_optimize_result(\n",
      "D:\\App\\anaconda3\\envs\\PythonEnv3.10\\lib\\site-packages\\sklearn\\linear_model\\_logistic.py:460: ConvergenceWarning: lbfgs failed to converge (status=1):\n",
      "STOP: TOTAL NO. of ITERATIONS REACHED LIMIT.\n",
      "\n",
      "Increase the number of iterations (max_iter) or scale the data as shown in:\n",
      "    https://scikit-learn.org/stable/modules/preprocessing.html\n",
      "Please also refer to the documentation for alternative solver options:\n",
      "    https://scikit-learn.org/stable/modules/linear_model.html#logistic-regression\n",
      "  n_iter_i = _check_optimize_result(\n",
      "D:\\App\\anaconda3\\envs\\PythonEnv3.10\\lib\\site-packages\\sklearn\\linear_model\\_logistic.py:460: ConvergenceWarning: lbfgs failed to converge (status=1):\n",
      "STOP: TOTAL NO. of ITERATIONS REACHED LIMIT.\n",
      "\n",
      "Increase the number of iterations (max_iter) or scale the data as shown in:\n",
      "    https://scikit-learn.org/stable/modules/preprocessing.html\n",
      "Please also refer to the documentation for alternative solver options:\n",
      "    https://scikit-learn.org/stable/modules/linear_model.html#logistic-regression\n",
      "  n_iter_i = _check_optimize_result(\n",
      "D:\\App\\anaconda3\\envs\\PythonEnv3.10\\lib\\site-packages\\sklearn\\linear_model\\_logistic.py:460: ConvergenceWarning: lbfgs failed to converge (status=1):\n",
      "STOP: TOTAL NO. of ITERATIONS REACHED LIMIT.\n",
      "\n",
      "Increase the number of iterations (max_iter) or scale the data as shown in:\n",
      "    https://scikit-learn.org/stable/modules/preprocessing.html\n",
      "Please also refer to the documentation for alternative solver options:\n",
      "    https://scikit-learn.org/stable/modules/linear_model.html#logistic-regression\n",
      "  n_iter_i = _check_optimize_result(\n",
      "D:\\App\\anaconda3\\envs\\PythonEnv3.10\\lib\\site-packages\\sklearn\\linear_model\\_logistic.py:460: ConvergenceWarning: lbfgs failed to converge (status=1):\n",
      "STOP: TOTAL NO. of ITERATIONS REACHED LIMIT.\n",
      "\n",
      "Increase the number of iterations (max_iter) or scale the data as shown in:\n",
      "    https://scikit-learn.org/stable/modules/preprocessing.html\n",
      "Please also refer to the documentation for alternative solver options:\n",
      "    https://scikit-learn.org/stable/modules/linear_model.html#logistic-regression\n",
      "  n_iter_i = _check_optimize_result(\n",
      "D:\\App\\anaconda3\\envs\\PythonEnv3.10\\lib\\site-packages\\sklearn\\linear_model\\_logistic.py:460: ConvergenceWarning: lbfgs failed to converge (status=1):\n",
      "STOP: TOTAL NO. of ITERATIONS REACHED LIMIT.\n",
      "\n",
      "Increase the number of iterations (max_iter) or scale the data as shown in:\n",
      "    https://scikit-learn.org/stable/modules/preprocessing.html\n",
      "Please also refer to the documentation for alternative solver options:\n",
      "    https://scikit-learn.org/stable/modules/linear_model.html#logistic-regression\n",
      "  n_iter_i = _check_optimize_result(\n",
      "D:\\App\\anaconda3\\envs\\PythonEnv3.10\\lib\\site-packages\\sklearn\\linear_model\\_logistic.py:460: ConvergenceWarning: lbfgs failed to converge (status=1):\n",
      "STOP: TOTAL NO. of ITERATIONS REACHED LIMIT.\n",
      "\n",
      "Increase the number of iterations (max_iter) or scale the data as shown in:\n",
      "    https://scikit-learn.org/stable/modules/preprocessing.html\n",
      "Please also refer to the documentation for alternative solver options:\n",
      "    https://scikit-learn.org/stable/modules/linear_model.html#logistic-regression\n",
      "  n_iter_i = _check_optimize_result(\n",
      "D:\\App\\anaconda3\\envs\\PythonEnv3.10\\lib\\site-packages\\sklearn\\linear_model\\_logistic.py:460: ConvergenceWarning: lbfgs failed to converge (status=1):\n",
      "STOP: TOTAL NO. of ITERATIONS REACHED LIMIT.\n",
      "\n",
      "Increase the number of iterations (max_iter) or scale the data as shown in:\n",
      "    https://scikit-learn.org/stable/modules/preprocessing.html\n",
      "Please also refer to the documentation for alternative solver options:\n",
      "    https://scikit-learn.org/stable/modules/linear_model.html#logistic-regression\n",
      "  n_iter_i = _check_optimize_result(\n",
      "D:\\App\\anaconda3\\envs\\PythonEnv3.10\\lib\\site-packages\\sklearn\\linear_model\\_logistic.py:460: ConvergenceWarning: lbfgs failed to converge (status=1):\n",
      "STOP: TOTAL NO. of ITERATIONS REACHED LIMIT.\n",
      "\n",
      "Increase the number of iterations (max_iter) or scale the data as shown in:\n",
      "    https://scikit-learn.org/stable/modules/preprocessing.html\n",
      "Please also refer to the documentation for alternative solver options:\n",
      "    https://scikit-learn.org/stable/modules/linear_model.html#logistic-regression\n",
      "  n_iter_i = _check_optimize_result(\n",
      "D:\\App\\anaconda3\\envs\\PythonEnv3.10\\lib\\site-packages\\sklearn\\linear_model\\_logistic.py:460: ConvergenceWarning: lbfgs failed to converge (status=1):\n",
      "STOP: TOTAL NO. of ITERATIONS REACHED LIMIT.\n",
      "\n",
      "Increase the number of iterations (max_iter) or scale the data as shown in:\n",
      "    https://scikit-learn.org/stable/modules/preprocessing.html\n",
      "Please also refer to the documentation for alternative solver options:\n",
      "    https://scikit-learn.org/stable/modules/linear_model.html#logistic-regression\n",
      "  n_iter_i = _check_optimize_result(\n",
      "D:\\App\\anaconda3\\envs\\PythonEnv3.10\\lib\\site-packages\\sklearn\\linear_model\\_logistic.py:460: ConvergenceWarning: lbfgs failed to converge (status=1):\n",
      "STOP: TOTAL NO. of ITERATIONS REACHED LIMIT.\n",
      "\n",
      "Increase the number of iterations (max_iter) or scale the data as shown in:\n",
      "    https://scikit-learn.org/stable/modules/preprocessing.html\n",
      "Please also refer to the documentation for alternative solver options:\n",
      "    https://scikit-learn.org/stable/modules/linear_model.html#logistic-regression\n",
      "  n_iter_i = _check_optimize_result(\n",
      "D:\\App\\anaconda3\\envs\\PythonEnv3.10\\lib\\site-packages\\sklearn\\linear_model\\_logistic.py:460: ConvergenceWarning: lbfgs failed to converge (status=1):\n",
      "STOP: TOTAL NO. of ITERATIONS REACHED LIMIT.\n",
      "\n",
      "Increase the number of iterations (max_iter) or scale the data as shown in:\n",
      "    https://scikit-learn.org/stable/modules/preprocessing.html\n",
      "Please also refer to the documentation for alternative solver options:\n",
      "    https://scikit-learn.org/stable/modules/linear_model.html#logistic-regression\n",
      "  n_iter_i = _check_optimize_result(\n"
     ]
    },
    {
     "data": {
      "text/plain": [
       "0.9733333333333334"
      ]
     },
     "execution_count": 13,
     "metadata": {},
     "output_type": "execute_result"
    }
   ],
   "source": [
    "S = pd.DataFrame(load_iris().data)\n",
    "S['target'] = load_iris().target\n",
    "LR = LogisticRegression(solver='lbfgs', multi_class='multinomial')\n",
    "C = np.array([[0, 1, 1], [1, 0, 1], [1, 1, 0]])\n",
    "LR.fit(S.loc[:,])\n",
    "# model = MetaCost(S, LR, C).fit('target', 3)\n",
    "model = MetaCost(S, LR, C).fit('target', 3)\n",
    "model.predict_proba(load_iris().data[[2]])\n",
    "model.score(S[[0, 1, 2, 3]].values, S['target'])"
   ]
  }
 ],
 "metadata": {
  "kernelspec": {
   "display_name": "PythonEnv3.10",
   "language": "python",
   "name": "pythonenv3.10"
  },
  "language_info": {
   "codemirror_mode": {
    "name": "ipython",
    "version": 3
   },
   "file_extension": ".py",
   "mimetype": "text/x-python",
   "name": "python",
   "nbconvert_exporter": "python",
   "pygments_lexer": "ipython3",
   "version": "3.10.13"
  }
 },
 "nbformat": 4,
 "nbformat_minor": 5
}
